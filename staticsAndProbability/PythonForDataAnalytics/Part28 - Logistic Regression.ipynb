{
 "cells": [
  {
   "cell_type": "markdown",
   "metadata": {},
   "source": [
    "# Part 28: Logistic Regression\n",
    "\n",
    "linear regression as a predictive modeling method to estimate numeric variables.\n",
    "\n",
    "classification: prediction tasks where the response variable is categorical instead of numeric."
   ]
  },
  {
   "cell_type": "markdown",
   "metadata": {},
   "source": [
    "__Logistic regression__ takes a linear combination of explanatory variables plus an intercept term just like linear regression, but then it takes the result and passes it through the \"logistic\" function. The logistic or sigmoid function is defined as:\n",
    "\n",
    "S(t)=1/(1+e^−t)\n",
    "\n",
    "where t is the same linear combination of variables used in linear regression. The logistic function looks like an elongated S when plotted:"
   ]
  },
  {
   "cell_type": "code",
   "execution_count": 1,
   "metadata": {},
   "outputs": [],
   "source": [
    "%matplotlib inline"
   ]
  },
  {
   "cell_type": "code",
   "execution_count": 2,
   "metadata": {},
   "outputs": [],
   "source": [
    "import numpy as np\n",
    "import pandas as pd\n",
    "import matplotlib\n",
    "import matplotlib.pyplot as plt\n",
    "import scipy.stats as stats"
   ]
  },
  {
   "cell_type": "code",
   "execution_count": 3,
   "metadata": {},
   "outputs": [
    {
     "data": {
      "text/plain": [
       "[<matplotlib.lines.Line2D at 0xa83db4ac>]"
      ]
     },
     "execution_count": 3,
     "metadata": {},
     "output_type": "execute_result"
    },
    {
     "data": {
      "image/png": "[encoded data removed]",
      "text/plain": [
       "<Figure size 648x648 with 1 Axes>"
      ]
     },
     "metadata": {},
     "output_type": "display_data"
    }
   ],
   "source": [
    "plt.figure(figsize=(9,9))\n",
    "\n",
    "def sigmoid(t):\n",
    "    return(1/(1 + np.e**(-t)))\n",
    "\n",
    "plot_range = np.arange(-6,6,0.1)\n",
    "y_values = sigmoid(plot_range)\n",
    "\n",
    "plt.plot(plot_range, y_values, color='red')"
   ]
  },
  {
   "cell_type": "markdown",
   "metadata": {},
   "source": [
    "The sigmoid function is bounded below by 0 and bounded above by 1. In logistic regression, the output is interpreted as a probability: the probability that an observation belongs to the second of the two categories being modeled. When the linear combination of variables produces positive numbers, the resulting probability is greater than 0.5 and when it produces negative numbers, the probability is less than 0.5."
   ]
  },
  {
   "cell_type": "markdown",
   "metadata": {},
   "source": [
    "### Logistic regression on Titanic dataset"
   ]
  },
  {
   "cell_type": "code",
   "execution_count": 8,
   "metadata": {},
   "outputs": [],
   "source": [
    "import os\n",
    "\n",
    "os.chdir('/home/sindhuvarun/github/ML-Learning/staticsAndProbability/PythonForDataAnalytics/dataset/Titanic')\n",
    "titanic_train = pd.read_csv('train.csv')"
   ]
  },
  {
   "cell_type": "code",
   "execution_count": 9,
   "metadata": {},
   "outputs": [],
   "source": [
    "char_cabin = titanic_train[\"Cabin\"].astype(str)     # Convert cabin to str\n",
    "\n",
    "new_Cabin = np.array([cabin[0] for cabin in char_cabin]) # Take first letter\n",
    "\n",
    "titanic_train[\"Cabin\"] = pd.Categorical(new_Cabin)  # Save the new cabin var\n",
    "\n",
    "# Impute median Age for NA Age values\n",
    "new_age_var = np.where(titanic_train[\"Age\"].isnull(), # Logical check\n",
    "                       28,                       # Value if check is true\n",
    "                       titanic_train[\"Age\"])     # Value if check is false\n",
    "\n",
    "titanic_train[\"Age\"] = new_age_var"
   ]
  },
  {
   "cell_type": "code",
   "execution_count": 10,
   "metadata": {},
   "outputs": [],
   "source": [
    "# Let's make a logistic regression model that only uses the Sex variable as a predictor.\n",
    "from sklearn import linear_model\n",
    "from sklearn import preprocessing"
   ]
  },
  {
   "cell_type": "code",
   "execution_count": 11,
   "metadata": {},
   "outputs": [
    {
     "name": "stdout",
     "output_type": "stream",
     "text": [
      "Intercepts\n",
      "[1.00027876]\n",
      "Coefficients\n",
      "[[-2.43010712]]\n"
     ]
    }
   ],
   "source": [
    "# Initialize label encoder\n",
    "label_encoder = preprocessing.LabelEncoder()\n",
    "\n",
    "# Convert sex variable to numeric\n",
    "encoded_sex = label_encoder.fit_transform(titanic_train['Sex'])\n",
    "\n",
    "log_model = linear_model.LogisticRegression()\n",
    "\n",
    "log_model.fit(X=pd.DataFrame(encoded_sex), y=titanic_train['Survived'])\n",
    "\n",
    "print(\"Intercepts\")\n",
    "print(log_model.intercept_)\n",
    "\n",
    "print(\"Coefficients\")\n",
    "print(log_model.coef_)"
   ]
  },
  {
   "cell_type": "code",
   "execution_count": 18,
   "metadata": {},
   "outputs": [
    {
     "data": {
      "text/html": [
       "<div>\n",
       "<style scoped>\n",
       "    .dataframe tbody tr th:only-of-type {\n",
       "        vertical-align: middle;\n",
       "    }\n",
       "\n",
       "    .dataframe tbody tr th {\n",
       "        vertical-align: top;\n",
       "    }\n",
       "\n",
       "    .dataframe thead th {\n",
       "        text-align: right;\n",
       "    }\n",
       "</style>\n",
       "<table border=\"1\" class=\"dataframe\">\n",
       "  <thead>\n",
       "    <tr style=\"text-align: right;\">\n",
       "      <th>Survival_prob</th>\n",
       "      <th>0.1931254289724867</th>\n",
       "      <th>0.7311133823315537</th>\n",
       "    </tr>\n",
       "    <tr>\n",
       "      <th>Sex</th>\n",
       "      <th></th>\n",
       "      <th></th>\n",
       "    </tr>\n",
       "  </thead>\n",
       "  <tbody>\n",
       "    <tr>\n",
       "      <th>female</th>\n",
       "      <td>0</td>\n",
       "      <td>314</td>\n",
       "    </tr>\n",
       "    <tr>\n",
       "      <th>male</th>\n",
       "      <td>577</td>\n",
       "      <td>0</td>\n",
       "    </tr>\n",
       "  </tbody>\n",
       "</table>\n",
       "</div>"
      ],
      "text/plain": [
       "Survival_prob  0.193125  0.731113\n",
       "Sex                              \n",
       "female                0       314\n",
       "male                577         0"
      ]
     },
     "execution_count": 18,
     "metadata": {},
     "output_type": "execute_result"
    }
   ],
   "source": [
    "preds = log_model.predict_proba(X=pd.DataFrame(encoded_sex))\n",
    "preds = pd.DataFrame(preds)\n",
    "preds.columns = ['Death_prob', 'Survival_prob']\n",
    "\n",
    "pd.crosstab(titanic_train['Sex'], preds.loc[:,'Survival_prob'])"
   ]
  },
  {
   "cell_type": "code",
   "execution_count": 20,
   "metadata": {},
   "outputs": [
    {
     "name": "stdout",
     "output_type": "stream",
     "text": [
      "Intercept\n",
      "[3.32716302]\n",
      "Coefficients\n",
      "[[-0.90790164 -0.06426483 -2.43179802 -0.0265924 ]]\n"
     ]
    }
   ],
   "source": [
    "# More variables in the logistic regression\n",
    "encoded_class = label_encoder.fit_transform(titanic_train['Pclass'])\n",
    "encoded_cabin = label_encoder.fit_transform(titanic_train['Cabin'])\n",
    "\n",
    "train_features = pd.DataFrame([encoded_class, encoded_cabin, encoded_sex, titanic_train['Age']]).T\n",
    "\n",
    "log_model2 = linear_model.LogisticRegression()\n",
    "\n",
    "log_model2.fit(X=train_features, y=titanic_train['Survived'])\n",
    "\n",
    "print(\"Intercept\")\n",
    "print(log_model2.intercept_)\n",
    "\n",
    "print(\"Coefficients\")\n",
    "print(log_model2.coef_)"
   ]
  },
  {
   "cell_type": "code",
   "execution_count": 21,
   "metadata": {},
   "outputs": [
    {
     "data": {
      "text/html": [
       "<div>\n",
       "<style scoped>\n",
       "    .dataframe tbody tr th:only-of-type {\n",
       "        vertical-align: middle;\n",
       "    }\n",
       "\n",
       "    .dataframe tbody tr th {\n",
       "        vertical-align: top;\n",
       "    }\n",
       "\n",
       "    .dataframe thead th {\n",
       "        text-align: right;\n",
       "    }\n",
       "</style>\n",
       "<table border=\"1\" class=\"dataframe\">\n",
       "  <thead>\n",
       "    <tr style=\"text-align: right;\">\n",
       "      <th>Survived</th>\n",
       "      <th>0</th>\n",
       "      <th>1</th>\n",
       "    </tr>\n",
       "    <tr>\n",
       "      <th>row_0</th>\n",
       "      <th></th>\n",
       "      <th></th>\n",
       "    </tr>\n",
       "  </thead>\n",
       "  <tbody>\n",
       "    <tr>\n",
       "      <th>0</th>\n",
       "      <td>463</td>\n",
       "      <td>98</td>\n",
       "    </tr>\n",
       "    <tr>\n",
       "      <th>1</th>\n",
       "      <td>86</td>\n",
       "      <td>244</td>\n",
       "    </tr>\n",
       "  </tbody>\n",
       "</table>\n",
       "</div>"
      ],
      "text/plain": [
       "Survived    0    1\n",
       "row_0             \n",
       "0         463   98\n",
       "1          86  244"
      ]
     },
     "execution_count": 21,
     "metadata": {},
     "output_type": "execute_result"
    }
   ],
   "source": [
    "preds = log_model2.predict(X=train_features)\n",
    "pd.crosstab(preds, titanic_train['Survived'])"
   ]
  },
  {
   "cell_type": "markdown",
   "metadata": {},
   "source": [
    "### Confusion Matrix\n",
    "The table above shows the classes our model predicted vs. true values of the Survived variable. This table of predicted vs. actual values is known as a __confusion matrix__.\n",
    "\n",
    "The confusion matrix is a common tool for assessing the results of classification. \n",
    "\n",
    "The bottom right corner indicates the __True positives__: people the model predicted to survive who actually did survive. \n",
    "\n",
    "The bottom left cell indicates the __false positives__: people for whom the model predicted survival who did not actually survive. \n",
    "\n",
    "The top left cell indicates the __true negatives__: people correctly identified as non survivors. \n",
    "\n",
    "Finally, the top right cell shows the __false negatives__: passengers the model identified as non survivors who actually did survive.\n",
    "\n",
    "overall accuracy = (total correct prediction)/(total predictions)\n",
    "\n",
    "overall accuracy = (True Positives + True Negatives)/(total predictions)\n"
   ]
  },
  {
   "cell_type": "code",
   "execution_count": 23,
   "metadata": {},
   "outputs": [
    {
     "data": {
      "text/plain": [
       "0.7934904601571269"
      ]
     },
     "execution_count": 23,
     "metadata": {},
     "output_type": "execute_result"
    }
   ],
   "source": [
    "accuracy = (463 + 244)/(463 + 98 + 86 + 244)\n",
    "accuracy"
   ]
  },
  {
   "cell_type": "code",
   "execution_count": 24,
   "metadata": {},
   "outputs": [
    {
     "data": {
      "text/plain": [
       "0.7934904601571269"
      ]
     },
     "execution_count": 24,
     "metadata": {},
     "output_type": "execute_result"
    }
   ],
   "source": [
    "log_model2.score(X=train_features, y=titanic_train['Survived'])"
   ]
  },
  {
   "cell_type": "markdown",
   "metadata": {},
   "source": [
    "### Precision and Recall\n",
    "\n",
    "https://developers.google.com/machine-learning/crash-course/classification/precision-and-recall\n",
    "\n",
    "\n",
    "__Precision__\n",
    "\n",
    "Precision attempts to answer the following question:\n",
    "What proportion of positive identifications was actually correct?\n",
    "\n",
    "Precision = TP/(TP + FP)\n",
    "\n",
    "__Recall__\n",
    "\n",
    "Recall attempts to answer the following question:\n",
    "What proportion of actual positives was identified correctly?\n",
    "\n",
    "Recall = TP/(TP + FN)"
   ]
  },
  {
   "cell_type": "code",
   "execution_count": 25,
   "metadata": {},
   "outputs": [
    {
     "data": {
      "text/plain": [
       "array([[463,  86],\n",
       "       [ 98, 244]], dtype=int64)"
      ]
     },
     "execution_count": 25,
     "metadata": {},
     "output_type": "execute_result"
    }
   ],
   "source": [
    "from sklearn import metrics\n",
    "\n",
    "metrics.confusion_matrix(y_true=titanic_train['Survived'], y_pred=preds)"
   ]
  },
  {
   "cell_type": "code",
   "execution_count": 27,
   "metadata": {},
   "outputs": [
    {
     "name": "stdout",
     "output_type": "stream",
     "text": [
      "             precision    recall  f1-score   support\n",
      "\n",
      "          0       0.83      0.84      0.83       549\n",
      "          1       0.74      0.71      0.73       342\n",
      "\n",
      "avg / total       0.79      0.79      0.79       891\n",
      "\n"
     ]
    }
   ],
   "source": [
    "print(metrics.classification_report(y_true=titanic_train['Survived'], y_pred=preds))"
   ]
  },
  {
   "cell_type": "code",
   "execution_count": null,
   "metadata": {},
   "outputs": [],
   "source": []
  }
 ],
 "metadata": {
  "kernelspec": {
   "display_name": "Python 3",
   "language": "python",
   "name": "python3"
  },
  "language_info": {
   "codemirror_mode": {
    "name": "ipython",
    "version": 3
   },
   "file_extension": ".py",
   "mimetype": "text/x-python",
   "name": "python",
   "nbconvert_exporter": "python",
   "pygments_lexer": "ipython3",
   "version": "3.6.5"
  }
 },
 "nbformat": 4,
 "nbformat_minor": 2
}
